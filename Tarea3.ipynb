{
  "nbformat": 4,
  "nbformat_minor": 0,
  "metadata": {
    "colab": {
      "name": "Tarea3.ipynb",
      "provenance": [],
      "collapsed_sections": [],
      "authorship_tag": "ABX9TyNADfoM561LPMa0vYz1rcrT",
      "include_colab_link": true
    },
    "kernelspec": {
      "name": "python3",
      "display_name": "Python 3"
    },
    "language_info": {
      "name": "python"
    }
  },
  "cells": [
    {
      "cell_type": "markdown",
      "metadata": {
        "id": "view-in-github",
        "colab_type": "text"
      },
      "source": [
        "<a href=\"https://colab.research.google.com/github/AbrilMontiel/Tarea3.Menu/blob/master/Tarea3.ipynb\" target=\"_parent\"><img src=\"https://colab.research.google.com/assets/colab-badge.svg\" alt=\"Open In Colab\"/></a>"
      ]
    },
    {
      "cell_type": "code",
      "metadata": {
        "colab": {
          "base_uri": "https://localhost:8080/"
        },
        "id": "TNee9QyIXRBP",
        "outputId": "db66fb37-524d-49e3-d64e-e5c67ca29169"
      },
      "source": [
        "print(\"Detalle:\")\n",
        "menu = { \"Mesa\" :3 ,\n",
        "        \"Comensal\" :2,\n",
        "        \"Entrada\" : \"Ensalada verde\",\n",
        "        \"Medio\" : \"Crema de zanahoria\",\n",
        "        \"Fuerte\" : \"Filete\",\n",
        "        \"Adicionales\" : [\"Filete término medio\", \"la ensalada sin ningun tipo de semilla\", \"Aderezo Ranch\"]\n",
        "        }\n",
        "\n",
        "print(f\"\\t\\tMESA: { menu ['Mesa'] }\")\n",
        "print(f\"\\t\\tCOMENSAL: { menu ['Comensal'] }\")\n",
        "print(f\"\\t\\tENTRADA: { menu ['Entrada'] }\")\n",
        "print(f\"\\t\\tMEDIO: { menu ['Medio'] }\")\n",
        "print(f\"\\t\\tFUERTE: { menu ['Fuerte'] }\")\n",
        "print(f\"\\t\\tADICIONALES: { menu ['Adicionales'][0] },\\n\\t\\t{ menu ['Adicionales'][1] },\\n\\t\\t{ menu ['Adicionales'][2] }.\")\n"
      ],
      "execution_count": null,
      "outputs": [
        {
          "output_type": "stream",
          "name": "stdout",
          "text": [
            "Detalle:\n",
            "\t\tMESA: 3\n",
            "\t\tCOMENSAL: 2\n",
            "\t\tENTRADA: Ensalada verde\n",
            "\t\tMEDIO: Crema de zanahoria\n",
            "\t\tFUERTE: Filete\n",
            "\t\tADICIONALES: Filete término medio,\n",
            "\t\tla ensalada sin ningun tipo de semilla,\n",
            "\t\tAderezo Ranch.\n"
          ]
        }
      ]
    }
  ]
}